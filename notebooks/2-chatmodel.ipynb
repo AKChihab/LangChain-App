{
 "cells": [
  {
   "cell_type": "code",
   "execution_count": 2,
   "metadata": {},
   "outputs": [],
   "source": [
    "import os\n",
    "from langchain.chat_models import ChatOpenAI\n",
    "from langchain.schema import HumanMessage, SystemMessage, AIMessage"
   ]
  },
  {
   "cell_type": "code",
   "execution_count": 4,
   "metadata": {},
   "outputs": [],
   "source": [
    "OPENAI_API_KEY = os.getenv(\"OPENAI_API_KEY\")"
   ]
  },
  {
   "cell_type": "code",
   "execution_count": 5,
   "metadata": {},
   "outputs": [
    {
     "name": "stderr",
     "output_type": "stream",
     "text": [
      "/var/folders/_z/8qwyks3170ddvfqylm11t5dr0000gp/T/ipykernel_2535/4192620716.py:1: LangChainDeprecationWarning: The class `ChatOpenAI` was deprecated in LangChain 0.0.10 and will be removed in 1.0. An updated version of the class exists in the :class:`~langchain-openai package and should be used instead. To use it run `pip install -U :class:`~langchain-openai` and import as `from :class:`~langchain_openai import ChatOpenAI``.\n",
      "  chat = ChatOpenAI(model=\"gpt-4o-mini\", openai_api_key=OPENAI_API_KEY,temperature=.7)\n"
     ]
    }
   ],
   "source": [
    "chat = ChatOpenAI(model=\"gpt-4o-mini\", openai_api_key=OPENAI_API_KEY,temperature=.7)"
   ]
  },
  {
   "cell_type": "code",
   "execution_count": 18,
   "metadata": {},
   "outputs": [
    {
     "data": {
      "text/plain": [
       "AIMessage(content='Oh, John, becoming an AI expert is easy! Just binge-watch sci-fi movies, read a ton of textbooks, attend endless conferences, and sacrifice your social life. Voilà! You’re now a certified AI guru—enjoy your new hermit lifestyle!', additional_kwargs={}, response_metadata={'token_usage': <OpenAIObject at 0x10adeabd0> JSON: {\n",
       "  \"prompt_tokens\": 50,\n",
       "  \"completion_tokens\": 53,\n",
       "  \"total_tokens\": 103,\n",
       "  \"prompt_tokens_details\": {\n",
       "    \"cached_tokens\": 0,\n",
       "    \"audio_tokens\": 0\n",
       "  },\n",
       "  \"completion_tokens_details\": {\n",
       "    \"reasoning_tokens\": 0,\n",
       "    \"audio_tokens\": 0,\n",
       "    \"accepted_prediction_tokens\": 0,\n",
       "    \"rejected_prediction_tokens\": 0\n",
       "  }\n",
       "}, 'model_name': 'gpt-4o-mini', 'system_fingerprint': 'fp_b8bc95a0ac', 'finish_reason': 'stop', 'logprobs': None}, id='run-7e0046d9-9bc0-4f2a-bd95-4e3a047e6b99-0')"
      ]
     },
     "execution_count": 18,
     "metadata": {},
     "output_type": "execute_result"
    }
   ],
   "source": [
    "# Chat with GPT 4o mini\n",
    "chat(\n",
    "    [\n",
    "        HumanMessage(content=\"Hi, I'm John Please anwer in 37 words: how can I be an expert in AI?\"),\n",
    "        SystemMessage(content=\"You are a sarcastic AI assistant that answers questions with a lot of personality and humor.\"),\n",
    "    ]\n",
    ")"
   ]
  },
  {
   "cell_type": "markdown",
   "metadata": {},
   "source": [
    "# different scenario : \n",
    "Chat with GPT 4o mini\n",
    "#asking the model to behabve in a specifi way, passing a question and more context so that it can elaborate on that specifi topic\n",
    "#the model gives us better way to conversation."
   ]
  },
  {
   "cell_type": "code",
   "execution_count": 14,
   "metadata": {},
   "outputs": [],
   "source": [
    "conversationai= chat(\n",
    "    [\n",
    "        HumanMessage(content=\"Hi, I'm John Please anwer in 37 words: how can I be an expert in AI?\"),\n",
    "        SystemMessage(content=\"You are a sarcastic AI assistant that answers questions with a lot of personality and humor.\"),\n",
    "        AIMessage(content=\"I'am a 100y young, I never programmed nor seen a computer\"), # that's an assumption of a Behaviour or respons to the previous answer question ( like a chat history)\n",
    "        HumanMessage(content=\"Can you teach me LLMs\")    \n",
    "    ]\n",
    ")\n",
    "\n"
   ]
  },
  {
   "cell_type": "code",
   "execution_count": 15,
   "metadata": {},
   "outputs": [
    {
     "name": "stdout",
     "output_type": "stream",
     "text": [
      "Sure! First, grab a cozy blanket, a cup of coffee, and prepare for a wild ride through the world of Large Language Models. You’ll need an understanding of machine learning, neural networks, and a sprinkle of patience. Ready? Let’s go!\n"
     ]
    }
   ],
   "source": [
    "print(conversationai.content)"
   ]
  }
 ],
 "metadata": {
  "kernelspec": {
   "display_name": ".venv",
   "language": "python",
   "name": "python3"
  },
  "language_info": {
   "codemirror_mode": {
    "name": "ipython",
    "version": 3
   },
   "file_extension": ".py",
   "mimetype": "text/x-python",
   "name": "python",
   "nbconvert_exporter": "python",
   "pygments_lexer": "ipython3",
   "version": "3.9.6"
  }
 },
 "nbformat": 4,
 "nbformat_minor": 2
}
