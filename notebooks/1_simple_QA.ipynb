{
 "cells": [
  {
   "cell_type": "markdown",
   "metadata": {},
   "source": [
    "# Setting "
   ]
  },
  {
   "cell_type": "code",
   "execution_count": 8,
   "metadata": {},
   "outputs": [],
   "source": [
    "import os\n",
    "from langchain.chat_models import init_chat_model\n",
    "from langchain.llms import OpenAI , HuggingFaceHub\n",
    "\n",
    "OPENAI_API_KEY = os.getenv(\"OPENAI_API_KEY\")\n",
    "HUGGINGFACEHUB_API_TOKEN = os.getenv(\"HUGGINGFACEHUB_API_TOKEN\")"
   ]
  },
  {
   "cell_type": "code",
   "execution_count": 9,
   "metadata": {},
   "outputs": [],
   "source": [
    "\n",
    "HUGGINGFACEHUB_API_TOKEN = os.getenv(\"HUGGINGFACEHUB_API_TOKEN\")\n"
   ]
  },
  {
   "cell_type": "markdown",
   "metadata": {},
   "source": [
    "# Using Open AI"
   ]
  },
  {
   "cell_type": "code",
   "execution_count": 10,
   "metadata": {},
   "outputs": [],
   "source": [
    "\n",
    "llm = OpenAI(model_name='gpt-3.5-turbo-instruct')\n",
    "#model = init_chat_model(\"gpt-4o-mini\")\n",
    "query = 'what is the history of Nador?'\n"
   ]
  },
  {
   "cell_type": "code",
   "execution_count": 11,
   "metadata": {},
   "outputs": [
    {
     "name": "stdout",
     "output_type": "stream",
     "text": [
      "\n",
      "\n",
      "Nador is a city located in the northeastern part of Morocco, on the Mediterranean coast. It is situated near the border with Algeria and is the capital of the Nador Province.\n",
      "\n",
      "The history of Nador dates back to ancient times, with evidence of human settlements in the area dating back to the Paleolithic era. The city was known as \"Tamuda\" during the Roman Empire and was an important trading center due to its strategic location on the coast.\n",
      "\n",
      "In the 8th century, Nador was conquered by the Arab-Muslim armies and became part of the Umayyad Caliphate. The city flourished under Muslim rule and became an important center for agriculture and trade.\n",
      "\n",
      "During the 15th century, Nador was part of the Kingdom of Fez and was ruled by the Wattasid dynasty. It experienced a period of economic growth and stability under their rule.\n",
      "\n",
      "In the 19th century, Nador was a small fishing village and was part of the Spanish protectorate in Morocco. The city was known as \"La Cruz\" and was a popular destination for European tourists.\n",
      "\n",
      "In 1956, Morocco gained independence from France and Spain, and Nador became part of the newly formed Kingdom of Morocco. The city experienced rapid growth and development, becoming\n"
     ]
    }
   ],
   "source": [
    "query= 'what is the history of Nador?'\n",
    "completion = llm.invoke(query)\n",
    "print(completion)"
   ]
  },
  {
   "cell_type": "markdown",
   "metadata": {},
   "source": [
    "# Using Open Source Hugging Face"
   ]
  },
  {
   "cell_type": "code",
   "execution_count": 12,
   "metadata": {},
   "outputs": [],
   "source": [
    "llm = HuggingFaceHub(repo_id = \"google/flan-t5-large\" )"
   ]
  },
  {
   "cell_type": "code",
   "execution_count": 13,
   "metadata": {},
   "outputs": [
    {
     "name": "stderr",
     "output_type": "stream",
     "text": [
      "/Users/akaoui/Desktop/Github/LangChain-App/.venv/lib/python3.9/site-packages/huggingface_hub/utils/_deprecation.py:131: FutureWarning: 'post' (from 'huggingface_hub.inference._client') is deprecated and will be removed from version '0.31.0'. Making direct POST requests to the inference server is not supported anymore. Please use task methods instead (e.g. `InferenceClient.chat_completion`). If your use case is not supported, please open an issue in https://github.com/huggingface/huggingface_hub.\n",
      "  warnings.warn(warning_message, FutureWarning)\n"
     ]
    },
    {
     "name": "stdout",
     "output_type": "stream",
     "text": [
      "a chain of strands of a strand\n"
     ]
    }
   ],
   "source": [
    "query = 'Explain what is langchain?'\n",
    "completion = llm.invoke(query)\n",
    "print(completion)"
   ]
  },
  {
   "cell_type": "markdown",
   "metadata": {},
   "source": []
  }
 ],
 "metadata": {
  "kernelspec": {
   "display_name": ".venv",
   "language": "python",
   "name": "python3"
  },
  "language_info": {
   "codemirror_mode": {
    "name": "ipython",
    "version": 3
   },
   "file_extension": ".py",
   "mimetype": "text/x-python",
   "name": "python",
   "nbconvert_exporter": "python",
   "pygments_lexer": "ipython3",
   "version": "3.9.6"
  }
 },
 "nbformat": 4,
 "nbformat_minor": 2
}
