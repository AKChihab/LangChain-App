{
 "cells": [
  {
   "cell_type": "code",
   "execution_count": 9,
   "metadata": {},
   "outputs": [],
   "source": [
    "import os\n",
    "from langchain.chat_models import ChatOpenAI\n",
    "from langchain.schema import HumanMessage, SystemMessage, AIMessage\n"
   ]
  },
  {
   "cell_type": "code",
   "execution_count": 10,
   "metadata": {},
   "outputs": [],
   "source": [
    "OPENAI_API_KEY = os.getenv(\"OPENAI_API_KEY\")"
   ]
  },
  {
   "cell_type": "code",
   "execution_count": 11,
   "metadata": {},
   "outputs": [],
   "source": [
    "chat = ChatOpenAI(model=\"gpt-4o-mini\", openai_api_key=OPENAI_API_KEY,temperature=.7)"
   ]
  },
  {
   "cell_type": "code",
   "execution_count": 14,
   "metadata": {},
   "outputs": [
    {
     "data": {
      "text/plain": [
       "AIMessage(content='To be an AI expert, dive into math and programming, take online courses, read research papers, join forums, and practice building projects. Oh, and don’t forget to caffeinate; your brain will thank you!', additional_kwargs={}, response_metadata={'token_usage': <OpenAIObject at 0x1170c73b0> JSON: {\n",
       "  \"prompt_tokens\": 64,\n",
       "  \"completion_tokens\": 45,\n",
       "  \"total_tokens\": 109,\n",
       "  \"prompt_tokens_details\": {\n",
       "    \"cached_tokens\": 0,\n",
       "    \"audio_tokens\": 0\n",
       "  },\n",
       "  \"completion_tokens_details\": {\n",
       "    \"reasoning_tokens\": 0,\n",
       "    \"audio_tokens\": 0,\n",
       "    \"accepted_prediction_tokens\": 0,\n",
       "    \"rejected_prediction_tokens\": 0\n",
       "  }\n",
       "}, 'model_name': 'gpt-4o-mini', 'system_fingerprint': 'fp_06737a9306', 'finish_reason': 'stop', 'logprobs': None}, id='run-5c236975-307e-483c-8d25-aec3b22ca216-0')"
      ]
     },
     "execution_count": 14,
     "metadata": {},
     "output_type": "execute_result"
    }
   ],
   "source": [
    "chat(\n",
    "    [\n",
    "        HumanMessage(content=\"Hi, I'm John Please anwer in 37 words: how can I be an expert in AI?\"),\n",
    "        SystemMessage(content=\"You are a sarcastic AI assistant that answers questions with a lot of personality and humor.\"),\n",
    "        AIMessage(content=\"I'm doing well, thank you for as king!\"),    \n",
    "    ]\n",
    ")\n",
    "\n"
   ]
  },
  {
   "cell_type": "code",
   "execution_count": null,
   "metadata": {},
   "outputs": [],
   "source": []
  }
 ],
 "metadata": {
  "kernelspec": {
   "display_name": ".venv",
   "language": "python",
   "name": "python3"
  },
  "language_info": {
   "codemirror_mode": {
    "name": "ipython",
    "version": 3
   },
   "file_extension": ".py",
   "mimetype": "text/x-python",
   "name": "python",
   "nbconvert_exporter": "python",
   "pygments_lexer": "ipython3",
   "version": "3.9.6"
  }
 },
 "nbformat": 4,
 "nbformat_minor": 2
}
